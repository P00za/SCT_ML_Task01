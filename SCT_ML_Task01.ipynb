{
 "cells": [
  {
   "cell_type": "code",
   "execution_count": 1,
   "id": "79d643ca-da01-4695-867e-ec17ca92c436",
   "metadata": {},
   "outputs": [
    {
     "name": "stdout",
     "output_type": "stream",
     "text": [
      "   Index                                              Title  \\\n",
      "0      0  1 BHK Ready to Occupy Flat for sale in Srushti...   \n",
      "1      1  2 BHK Ready to Occupy Flat for sale in Dosti V...   \n",
      "2      2  2 BHK Ready to Occupy Flat for sale in Sunrise...   \n",
      "3      3        1 BHK Ready to Occupy Flat for sale Kasheli   \n",
      "4      4  2 BHK Ready to Occupy Flat for sale in TenX Ha...   \n",
      "\n",
      "                                         Description Amount(in rupees)  \\\n",
      "0  Bhiwandi, Thane has an attractive 1 BHK Flat f...           42 Lac    \n",
      "1  One can find this stunning 2 BHK flat for sale...           98 Lac    \n",
      "2  Up for immediate sale is a 2 BHK apartment in ...          1.40 Cr    \n",
      "3  This beautiful 1 BHK Flat is available for sal...           25 Lac    \n",
      "4  This lovely 2 BHK Flat in Pokhran Road, Thane ...          1.60 Cr    \n",
      "\n",
      "   Price (in rupees) location Carpet Area         Status         Floor  \\\n",
      "0             6000.0    thane    500 sqft  Ready to Move  10 out of 11   \n",
      "1            13799.0    thane    473 sqft  Ready to Move   3 out of 22   \n",
      "2            17500.0    thane    779 sqft  Ready to Move  10 out of 29   \n",
      "3                NaN    thane    530 sqft  Ready to Move    1 out of 3   \n",
      "4            18824.0    thane    635 sqft  Ready to Move  20 out of 42   \n",
      "\n",
      "  Transaction  ...             overlooking  \\\n",
      "0      Resale  ...                     NaN   \n",
      "1      Resale  ...             Garden/Park   \n",
      "2      Resale  ...             Garden/Park   \n",
      "3      Resale  ...                     NaN   \n",
      "4      Resale  ...  Garden/Park, Main Road   \n",
      "\n",
      "                               Society Bathroom Balcony Car Parking  \\\n",
      "0  Srushti Siddhi Mangal Murti Complex        1       2         NaN   \n",
      "1                          Dosti Vihar        2     NaN      1 Open   \n",
      "2                 Sunrise by Kalpataru        2     NaN   1 Covered   \n",
      "3                                  NaN        1       1         NaN   \n",
      "4          TenX Habitat Raymond Realty        2     NaN   1 Covered   \n",
      "\n",
      "              Ownership Super Area Dimensions Plot Area  Amount_cleaned  \n",
      "0                   NaN        NaN        NaN       NaN       4200000.0  \n",
      "1              Freehold        NaN        NaN       NaN       9800000.0  \n",
      "2              Freehold        NaN        NaN       NaN      14000000.0  \n",
      "3                   NaN        NaN        NaN       NaN       2500000.0  \n",
      "4  Co-operative Society        NaN        NaN       NaN      16000000.0  \n",
      "\n",
      "[5 rows x 22 columns]\n",
      "<class 'pandas.core.frame.DataFrame'>\n",
      "RangeIndex: 187531 entries, 0 to 187530\n",
      "Data columns (total 22 columns):\n",
      " #   Column             Non-Null Count   Dtype  \n",
      "---  ------             --------------   -----  \n",
      " 0   Index              187531 non-null  int64  \n",
      " 1   Title              187531 non-null  object \n",
      " 2   Description        184508 non-null  object \n",
      " 3   Amount(in rupees)  187531 non-null  object \n",
      " 4   Price (in rupees)  169866 non-null  float64\n",
      " 5   location           187531 non-null  object \n",
      " 6   Carpet Area        106858 non-null  object \n",
      " 7   Status             186916 non-null  object \n",
      " 8   Floor              180454 non-null  object \n",
      " 9   Transaction        187448 non-null  object \n",
      " 10  Furnishing         184634 non-null  object \n",
      " 11  facing             117298 non-null  object \n",
      " 12  overlooking        106095 non-null  object \n",
      " 13  Society            77853 non-null   object \n",
      " 14  Bathroom           186703 non-null  object \n",
      " 15  Balcony            138596 non-null  object \n",
      " 16  Car Parking        84174 non-null   object \n",
      " 17  Ownership          122014 non-null  object \n",
      " 18  Super Area         79846 non-null   object \n",
      " 19  Dimensions         0 non-null       float64\n",
      " 20  Plot Area          0 non-null       float64\n",
      " 21  Amount_cleaned     177847 non-null  float64\n",
      "dtypes: float64(4), int64(1), object(17)\n",
      "memory usage: 31.5+ MB\n",
      "None\n"
     ]
    }
   ],
   "source": [
    "import pandas as pd\n",
    "import numpy as np\n",
    "import matplotlib.pyplot as plt\n",
    "import seaborn as sns\n",
    "\n",
    "from sklearn.linear_model import LinearRegression\n",
    "from sklearn.model_selection import train_test_split\n",
    "from sklearn.metrics import mean_squared_error, r2_score\n",
    "\n",
    "df= pd.read_csv(\"house_prices.csv\")\n",
    "\n",
    "def convert_amount(value):\n",
    "    try:\n",
    "        value= value.strip().lower().replace(\",\",\"\")\n",
    "        if 'cr' in value:\n",
    "            return float(value.replace('cr','').strip())*1e7\n",
    "        elif 'lac' in value:\n",
    "            return float(value.replace('lac',''))*1e5\n",
    "        else:\n",
    "            return float(value)\n",
    "\n",
    "    except:\n",
    "        return np.nan\n",
    "df['Amount_cleaned']= df['Amount(in rupees)'].apply(convert_amount)\n",
    "\n",
    "            \n",
    "print(df.head())\n",
    "print(df.info()) "
   ]
  },
  {
   "cell_type": "code",
   "execution_count": 3,
   "id": "22818e56-47bc-4ae2-b2c2-03e3d4d73a56",
   "metadata": {},
   "outputs": [
    {
     "data": {
      "text/html": [
       "<div>\n",
       "<style scoped>\n",
       "    .dataframe tbody tr th:only-of-type {\n",
       "        vertical-align: middle;\n",
       "    }\n",
       "\n",
       "    .dataframe tbody tr th {\n",
       "        vertical-align: top;\n",
       "    }\n",
       "\n",
       "    .dataframe thead th {\n",
       "        text-align: right;\n",
       "    }\n",
       "</style>\n",
       "<table border=\"1\" class=\"dataframe\">\n",
       "  <thead>\n",
       "    <tr style=\"text-align: right;\">\n",
       "      <th></th>\n",
       "      <th>Amount(in rupees)</th>\n",
       "      <th>Amount_cleaned</th>\n",
       "    </tr>\n",
       "  </thead>\n",
       "  <tbody>\n",
       "    <tr>\n",
       "      <th>0</th>\n",
       "      <td>42 Lac</td>\n",
       "      <td>4200000.0</td>\n",
       "    </tr>\n",
       "    <tr>\n",
       "      <th>1</th>\n",
       "      <td>98 Lac</td>\n",
       "      <td>9800000.0</td>\n",
       "    </tr>\n",
       "    <tr>\n",
       "      <th>2</th>\n",
       "      <td>1.40 Cr</td>\n",
       "      <td>14000000.0</td>\n",
       "    </tr>\n",
       "    <tr>\n",
       "      <th>3</th>\n",
       "      <td>25 Lac</td>\n",
       "      <td>2500000.0</td>\n",
       "    </tr>\n",
       "    <tr>\n",
       "      <th>4</th>\n",
       "      <td>1.60 Cr</td>\n",
       "      <td>16000000.0</td>\n",
       "    </tr>\n",
       "  </tbody>\n",
       "</table>\n",
       "</div>"
      ],
      "text/plain": [
       "  Amount(in rupees)  Amount_cleaned\n",
       "0           42 Lac        4200000.0\n",
       "1           98 Lac        9800000.0\n",
       "2          1.40 Cr       14000000.0\n",
       "3           25 Lac        2500000.0\n",
       "4          1.60 Cr       16000000.0"
      ]
     },
     "execution_count": 3,
     "metadata": {},
     "output_type": "execute_result"
    }
   ],
   "source": [
    "def convert_amount(value):\n",
    "    try:\n",
    "        value = value.strip().lower().replace(\",\", \"\")\n",
    "        if 'cr' in value:\n",
    "            return float(value.replace('cr', '').strip()) * 1e7\n",
    "        elif 'lac' in value:\n",
    "            return float(value.replace('lac', '').strip()) * 1e5\n",
    "        else:\n",
    "            return float(value)\n",
    "    except:\n",
    "        return None\n",
    "\n",
    "df['Amount_cleaned'] = df['Amount(in rupees)'].apply(convert_amount)\n",
    "df[['Amount(in rupees)', 'Amount_cleaned']].head()\n"
   ]
  },
  {
   "cell_type": "code",
   "execution_count": 5,
   "id": "227274ff-8a45-4d5f-b902-23524ccc7c86",
   "metadata": {},
   "outputs": [
    {
     "data": {
      "text/html": [
       "<div>\n",
       "<style scoped>\n",
       "    .dataframe tbody tr th:only-of-type {\n",
       "        vertical-align: middle;\n",
       "    }\n",
       "\n",
       "    .dataframe tbody tr th {\n",
       "        vertical-align: top;\n",
       "    }\n",
       "\n",
       "    .dataframe thead th {\n",
       "        text-align: right;\n",
       "    }\n",
       "</style>\n",
       "<table border=\"1\" class=\"dataframe\">\n",
       "  <thead>\n",
       "    <tr style=\"text-align: right;\">\n",
       "      <th></th>\n",
       "      <th>Carpet Area</th>\n",
       "      <th>Carpet_cleaned</th>\n",
       "    </tr>\n",
       "  </thead>\n",
       "  <tbody>\n",
       "    <tr>\n",
       "      <th>0</th>\n",
       "      <td>500 sqft</td>\n",
       "      <td>500.0</td>\n",
       "    </tr>\n",
       "    <tr>\n",
       "      <th>1</th>\n",
       "      <td>473 sqft</td>\n",
       "      <td>473.0</td>\n",
       "    </tr>\n",
       "    <tr>\n",
       "      <th>2</th>\n",
       "      <td>779 sqft</td>\n",
       "      <td>779.0</td>\n",
       "    </tr>\n",
       "    <tr>\n",
       "      <th>3</th>\n",
       "      <td>530 sqft</td>\n",
       "      <td>530.0</td>\n",
       "    </tr>\n",
       "    <tr>\n",
       "      <th>4</th>\n",
       "      <td>635 sqft</td>\n",
       "      <td>635.0</td>\n",
       "    </tr>\n",
       "  </tbody>\n",
       "</table>\n",
       "</div>"
      ],
      "text/plain": [
       "  Carpet Area  Carpet_cleaned\n",
       "0    500 sqft           500.0\n",
       "1    473 sqft           473.0\n",
       "2    779 sqft           779.0\n",
       "3    530 sqft           530.0\n",
       "4    635 sqft           635.0"
      ]
     },
     "execution_count": 5,
     "metadata": {},
     "output_type": "execute_result"
    }
   ],
   "source": [
    "def extract_sqft(area):\n",
    "    try:\n",
    "        return float(area.lower().replace('sqft', '').strip())\n",
    "    except:\n",
    "        return None\n",
    "\n",
    "df['Carpet_cleaned'] = df['Carpet Area'].apply(extract_sqft)\n",
    "df[['Carpet Area', 'Carpet_cleaned']].head()\n"
   ]
  },
  {
   "cell_type": "code",
   "execution_count": 7,
   "id": "1e49242f-b1fd-4ac6-8716-ef14a5d37825",
   "metadata": {},
   "outputs": [
    {
     "name": "stdout",
     "output_type": "stream",
     "text": [
      "  Carpet Area  Carpet_cleaned\n",
      "0    500 sqft           500.0\n",
      "1    473 sqft           473.0\n",
      "2    779 sqft           779.0\n",
      "3    530 sqft           530.0\n",
      "4    635 sqft           635.0\n"
     ]
    }
   ],
   "source": [
    "# Step 3: Convert 'Carpet Area' to numeric (remove 'sqft')\n",
    "def extract_sqft(area):\n",
    "    try:\n",
    "        return float(area.lower().replace('sqft', '').strip())\n",
    "    except:\n",
    "        return None\n",
    "\n",
    "df['Carpet_cleaned'] = df['Carpet Area'].apply(extract_sqft)\n",
    "\n",
    "# See before and after\n",
    "print(df[['Carpet Area', 'Carpet_cleaned']].head())\n"
   ]
  },
  {
   "cell_type": "code",
   "execution_count": 9,
   "id": "55cd3150-6d22-4c06-b7a9-c8dbc3cb7ad8",
   "metadata": {},
   "outputs": [
    {
     "name": "stdout",
     "output_type": "stream",
     "text": [
      "Bathroom    float64\n",
      "Balcony     float64\n",
      "dtype: object\n",
      "   Bathroom  Balcony\n",
      "0       1.0      2.0\n",
      "1       2.0      NaN\n",
      "2       2.0      NaN\n",
      "3       1.0      1.0\n",
      "4       2.0      NaN\n"
     ]
    }
   ],
   "source": [
    "# Convert Bathroom and Balcony to numeric (ignore errors and set invalid ones to NaN)\n",
    "df['Bathroom'] = pd.to_numeric(df['Bathroom'], errors='coerce')\n",
    "df['Balcony'] = pd.to_numeric(df['Balcony'], errors='coerce')\n",
    "\n",
    "# Check the result\n",
    "print(df[['Bathroom', 'Balcony']].dtypes)\n",
    "print(df[['Bathroom', 'Balcony']].head())\n"
   ]
  },
  {
   "cell_type": "code",
   "execution_count": 11,
   "id": "5ff8c36f-df60-445c-a4f9-5e687c73c28b",
   "metadata": {},
   "outputs": [
    {
     "name": "stdout",
     "output_type": "stream",
     "text": [
      "    Carpet_cleaned  Bathroom  Balcony  Amount_cleaned\n",
      "0            500.0       1.0      2.0       4200000.0\n",
      "3            530.0       1.0      1.0       2500000.0\n",
      "9            900.0       3.0      1.0      16000000.0\n",
      "13          1820.0       4.0      1.0      42500000.0\n",
      "15           675.0       2.0      1.0       9000000.0\n",
      "Total cleaned rows: 89213\n"
     ]
    }
   ],
   "source": [
    "# Keep only the cleaned, necessary columns\n",
    "final_df = df[['Carpet_cleaned', 'Bathroom', 'Balcony', 'Amount_cleaned']].dropna()\n",
    "\n",
    "# Show first few rows\n",
    "print(final_df.head())\n",
    "\n",
    "# Optional: How many records are left?\n",
    "print(\"Total cleaned rows:\", len(final_df))\n"
   ]
  },
  {
   "cell_type": "code",
   "execution_count": 13,
   "id": "b5cf38d3-26dd-474c-aed9-6abee85e5006",
   "metadata": {},
   "outputs": [
    {
     "name": "stdout",
     "output_type": "stream",
     "text": [
      "Training samples: 71370\n",
      "Testing samples: 17843\n"
     ]
    }
   ],
   "source": [
    "from sklearn.model_selection import train_test_split\n",
    "\n",
    "# Features (Input) and Target (Output)\n",
    "X = final_df[['Carpet_cleaned', 'Bathroom', 'Balcony']]\n",
    "y = final_df['Amount_cleaned']\n",
    "\n",
    "# Split into Train and Test sets (80% train, 20% test)\n",
    "X_train, X_test, y_train, y_test = train_test_split(X, y, test_size=0.2, random_state=42)\n",
    "\n",
    "# Check sizes\n",
    "print(\"Training samples:\", X_train.shape[0])\n",
    "print(\"Testing samples:\", X_test.shape[0])\n"
   ]
  },
  {
   "cell_type": "code",
   "execution_count": 15,
   "id": "93a0f21b-ffdc-4fa4-8041-1f11a5af7481",
   "metadata": {},
   "outputs": [
    {
     "name": "stdout",
     "output_type": "stream",
     "text": [
      "Intercept (b0): -16860757.23239921\n",
      "Coefficients (b1, b2, b3): [2.57497548e+02 1.03843326e+07 1.86329139e+06]\n"
     ]
    }
   ],
   "source": [
    "from sklearn.linear_model import LinearRegression\n",
    "\n",
    "# Create and train the model\n",
    "model = LinearRegression()\n",
    "model.fit(X_train, y_train)\n",
    "\n",
    "# Show model coefficients\n",
    "print(\"Intercept (b0):\", model.intercept_)\n",
    "print(\"Coefficients (b1, b2, b3):\", model.coef_)\n"
   ]
  },
  {
   "cell_type": "code",
   "execution_count": 19,
   "id": "c46d5a46-ae2c-48fb-a5d7-b18de5f783f9",
   "metadata": {},
   "outputs": [
    {
     "name": "stdout",
     "output_type": "stream",
     "text": [
      "   Actual Price  Predicted Price\n",
      "0     8300000.0     7.861089e+06\n",
      "1     8500000.0     7.866238e+06\n",
      "2     6500000.0     7.788989e+06\n",
      "3     5230000.0     7.866238e+06\n",
      "4    15600000.0     9.845404e+06\n"
     ]
    }
   ],
   "source": [
    "# Predict prices for the test set\n",
    "y_pred = model.predict(X_test)\n",
    "\n",
    "# Show first 5 predictions vs actual\n",
    "predicted_vs_actual = pd.DataFrame({'Actual Price': y_test.values, 'Predicted Price': y_pred})\n",
    "print(predicted_vs_actual.head())\n"
   ]
  },
  {
   "cell_type": "code",
   "execution_count": 21,
   "id": "f5226ccb-97f6-41e3-835f-905da051569c",
   "metadata": {},
   "outputs": [
    {
     "name": "stdout",
     "output_type": "stream",
     "text": [
      "Mean Squared Error (MSE): 113781963388446.25\n",
      "R² Score: 0.4824147694229677\n"
     ]
    }
   ],
   "source": [
    "from sklearn.metrics import mean_squared_error, r2_score\n",
    "\n",
    "# Calculate error metrics\n",
    "mse = mean_squared_error(y_test, y_pred)\n",
    "r2 = r2_score(y_test, y_pred)\n",
    "\n",
    "print(\"Mean Squared Error (MSE):\", mse)\n",
    "print(\"R² Score:\", r2)\n"
   ]
  },
  {
   "cell_type": "code",
   "execution_count": 23,
   "id": "b517198f-db19-478d-8211-6c524b9a5f8b",
   "metadata": {},
   "outputs": [
    {
     "data": {
      "image/png": "[encoded data removed]",
      "text/plain": [
       "<Figure size 800x600 with 1 Axes>"
      ]
     },
     "metadata": {},
     "output_type": "display_data"
    }
   ],
   "source": [
    "import matplotlib.pyplot as plt\n",
    "\n",
    "plt.figure(figsize=(8, 6))\n",
    "plt.scatter(y_test, y_pred, color='green', edgecolor='black', alpha=0.6)\n",
    "plt.plot([y_test.min(), y_test.max()], [y_test.min(), y_test.max()], 'r--', linewidth=2)\n",
    "plt.xlabel(\"Actual Prices\")\n",
    "plt.ylabel(\"Predicted Prices\")\n",
    "plt.title(\"Actual vs Predicted House Prices\")\n",
    "plt.grid(True)\n",
    "plt.tight_layout()\n",
    "plt.show()\n"
   ]
  },
  {
   "cell_type": "code",
   "execution_count": null,
   "id": "8919f35f-46e8-4071-bfdc-dd16720c2226",
   "metadata": {},
   "outputs": [],
   "source": []
  }
 ],
 "metadata": {
  "kernelspec": {
   "display_name": "Python [conda env:base] *",
   "language": "python",
   "name": "conda-base-py"
  },
  "language_info": {
   "codemirror_mode": {
    "name": "ipython",
    "version": 3
   },
   "file_extension": ".py",
   "mimetype": "text/x-python",
   "name": "python",
   "nbconvert_exporter": "python",
   "pygments_lexer": "ipython3",
   "version": "3.12.7"
  }
 },
 "nbformat": 4,
 "nbformat_minor": 5
}
